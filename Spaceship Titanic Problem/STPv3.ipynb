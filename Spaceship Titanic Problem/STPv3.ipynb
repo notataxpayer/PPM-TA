{
 "cells": [
  {
   "cell_type": "markdown",
   "metadata": {},
   "source": [
    "# Inisiasi Kebutuhan library dan functions"
   ]
  },
  {
   "cell_type": "code",
   "execution_count": 2,
   "metadata": {},
   "outputs": [],
   "source": [
    "# Import library\n",
    "\n",
    "# library kebutuhan\n",
    "import os\n",
    "import datetime\n",
    "import zipfile\n",
    "import pandas as pd\n",
    "import matplotlib.pyplot as plt\n",
    "import seaborn as sns\n",
    "from sklearn.metrics import accuracy_score\n",
    "from sklearn.preprocessing import OneHotEncoder\n",
    "from sklearn.compose import ColumnTransformer\n",
    "from sklearn.impute import SimpleImputer\n",
    "from sklearn.pipeline import Pipeline\n",
    "from sklearn.preprocessing import StandardScaler\n",
    "\n",
    "# library algoritma\n",
    "from sklearn.model_selection import cross_val_score\n",
    "from sklearn.model_selection import StratifiedKFold\n",
    "from sklearn.naive_bayes import GaussianNB\n",
    "from sklearn.neighbors import KNeighborsClassifier\n",
    "from sklearn.svm import SVC\n",
    "from sklearn.linear_model import LogisticRegression\n",
    "from sklearn.ensemble import GradientBoostingClassifier\n",
    "from sklearn.tree import DecisionTreeClassifier\n",
    "from sklearn.ensemble import RandomForestClassifier\n",
    "from sklearn.neural_network import MLPClassifier\n",
    "\n",
    "# Macam macam algoritma\n",
    "algorithm_pack = [[GaussianNB(), 'Naive Bayes', 'NB'],\n",
    "                [KNeighborsClassifier(), 'K Nearest Neighbors', 'KNN'],\n",
    "                [SVC(), 'Support Vector Machine', 'SVM'],\n",
    "                [LogisticRegression(random_state=100), 'Logistic Regression', 'LR'],\n",
    "                [GradientBoostingClassifier(random_state=100, learning_rate=0.125), 'Gradient Boosting', 'GB'],\n",
    "                [DecisionTreeClassifier(random_state=100), 'Decision Tree', 'DT'],\n",
    "                [RandomForestClassifier(random_state=100), 'Random Forest','RF'],\n",
    "                [MLPClassifier(max_iter=1000), 'Multi-layer Perceptron', 'MLP']]\n",
    "\n",
    "# Fungsi untuk menampilkan opsi algoritma apa yang ingin dipakai\n",
    "def algorithm_option_string():\n",
    "    string = ''\n",
    "    for i in range(len(algorithm_pack)):\n",
    "        string += f\"\\n{i}. {algorithm_pack[i][1]}\"\n",
    "    string += '\\n['\n",
    "    for i in range(len(algorithm_pack)):\n",
    "        if(i == len(algorithm_pack) - 1):\n",
    "            string+= f\"{i}]: \"\n",
    "        else:\n",
    "            string+= f\"{i}/\"\n",
    "    return string\n",
    "\n",
    "# Fungsi untuk print error dengan warna merah dan diberi jarak\n",
    "def print_error(string):\n",
    "    print(\"\\n\\033[91m\"+string+\"\\033[0m\\n\")\n",
    "\n",
    "# Fungsi untuk validasi input opsi integer\n",
    "def get_integer_option(min_value, max_value, prompt):\n",
    "    while True:\n",
    "        try:\n",
    "            value = int(input(prompt))\n",
    "            if min_value <= value <= max_value:\n",
    "                return value\n",
    "            else:\n",
    "                print_error(f\"Option must be between {min_value} and {max_value}\")\n",
    "        except ValueError:\n",
    "            print_error(f\"Invalid option. Please enter a valid integer value between {min_value} and {max_value}\")\n",
    "\n",
    "def get_current_time(format=None):\n",
    "    \"\"\"Gets the current time in Python and optionally formats it.\n",
    "\n",
    "    Args:\n",
    "        format (str, optional): The desired format for the time string.\n",
    "            Defaults to None, which returns the time in ISO 8601 format (YYYY-MM-DD HH:MM:SS).\n",
    "            Common format codes include:\n",
    "                - %Y: Year (e.g., 2024)\n",
    "                - %m: Month (e.g., 02)\n",
    "                - %d: Day of the month (e.g., 27)\n",
    "                - %H: Hour in 24-hour format (e.g., 16)\n",
    "                - %M: Minute (e.g., 58)\n",
    "                - %S: Second (e.g., 24)\n",
    "                - %f: Microseconds (e.g., 406569)\n",
    "\n",
    "    Returns:\n",
    "        str: The formatted current time string.\n",
    "    \"\"\"\n",
    "\n",
    "    current_time = datetime.datetime.now()\n",
    "\n",
    "    if format:\n",
    "        return current_time.strftime(format)\n",
    "    else:\n",
    "        return current_time.isoformat()\n",
    "\n",
    "current_time = get_current_time(\"%d-%m-%y_%H=%M=%S\")\n",
    "    \n",
    "def remove_file(filename):\n",
    "    if os.path.exists(filename):\n",
    "        os.remove(filename)"
   ]
  },
  {
   "cell_type": "markdown",
   "metadata": {},
   "source": [
    "# -- Baca data dan menyimpan data original"
   ]
  },
  {
   "cell_type": "code",
   "execution_count": 3,
   "metadata": {},
   "outputs": [],
   "source": [
    "train_data = pd.read_csv('train.csv')\n",
    "test_data = pd.read_csv('test.csv')\n",
    "origin_test_data = test_data"
   ]
  },
  {
   "cell_type": "markdown",
   "metadata": {},
   "source": [
    "# Melihat Info dari train data"
   ]
  },
  {
   "cell_type": "code",
   "execution_count": 4,
   "metadata": {},
   "outputs": [
    {
     "data": {
      "text/html": [
       "<div>\n",
       "<style scoped>\n",
       "    .dataframe tbody tr th:only-of-type {\n",
       "        vertical-align: middle;\n",
       "    }\n",
       "\n",
       "    .dataframe tbody tr th {\n",
       "        vertical-align: top;\n",
       "    }\n",
       "\n",
       "    .dataframe thead th {\n",
       "        text-align: right;\n",
       "    }\n",
       "</style>\n",
       "<table border=\"1\" class=\"dataframe\">\n",
       "  <thead>\n",
       "    <tr style=\"text-align: right;\">\n",
       "      <th></th>\n",
       "      <th>PassengerId</th>\n",
       "      <th>HomePlanet</th>\n",
       "      <th>CryoSleep</th>\n",
       "      <th>Cabin</th>\n",
       "      <th>Destination</th>\n",
       "      <th>Age</th>\n",
       "      <th>VIP</th>\n",
       "      <th>RoomService</th>\n",
       "      <th>FoodCourt</th>\n",
       "      <th>ShoppingMall</th>\n",
       "      <th>Spa</th>\n",
       "      <th>VRDeck</th>\n",
       "      <th>Name</th>\n",
       "      <th>Transported</th>\n",
       "    </tr>\n",
       "  </thead>\n",
       "  <tbody>\n",
       "    <tr>\n",
       "      <th>0</th>\n",
       "      <td>0001_01</td>\n",
       "      <td>Europa</td>\n",
       "      <td>False</td>\n",
       "      <td>B/0/P</td>\n",
       "      <td>TRAPPIST-1e</td>\n",
       "      <td>39.0</td>\n",
       "      <td>False</td>\n",
       "      <td>0.0</td>\n",
       "      <td>0.0</td>\n",
       "      <td>0.0</td>\n",
       "      <td>0.0</td>\n",
       "      <td>0.0</td>\n",
       "      <td>Maham Ofracculy</td>\n",
       "      <td>False</td>\n",
       "    </tr>\n",
       "    <tr>\n",
       "      <th>1</th>\n",
       "      <td>0002_01</td>\n",
       "      <td>Earth</td>\n",
       "      <td>False</td>\n",
       "      <td>F/0/S</td>\n",
       "      <td>TRAPPIST-1e</td>\n",
       "      <td>24.0</td>\n",
       "      <td>False</td>\n",
       "      <td>109.0</td>\n",
       "      <td>9.0</td>\n",
       "      <td>25.0</td>\n",
       "      <td>549.0</td>\n",
       "      <td>44.0</td>\n",
       "      <td>Juanna Vines</td>\n",
       "      <td>True</td>\n",
       "    </tr>\n",
       "    <tr>\n",
       "      <th>2</th>\n",
       "      <td>0003_01</td>\n",
       "      <td>Europa</td>\n",
       "      <td>False</td>\n",
       "      <td>A/0/S</td>\n",
       "      <td>TRAPPIST-1e</td>\n",
       "      <td>58.0</td>\n",
       "      <td>True</td>\n",
       "      <td>43.0</td>\n",
       "      <td>3576.0</td>\n",
       "      <td>0.0</td>\n",
       "      <td>6715.0</td>\n",
       "      <td>49.0</td>\n",
       "      <td>Altark Susent</td>\n",
       "      <td>False</td>\n",
       "    </tr>\n",
       "    <tr>\n",
       "      <th>3</th>\n",
       "      <td>0003_02</td>\n",
       "      <td>Europa</td>\n",
       "      <td>False</td>\n",
       "      <td>A/0/S</td>\n",
       "      <td>TRAPPIST-1e</td>\n",
       "      <td>33.0</td>\n",
       "      <td>False</td>\n",
       "      <td>0.0</td>\n",
       "      <td>1283.0</td>\n",
       "      <td>371.0</td>\n",
       "      <td>3329.0</td>\n",
       "      <td>193.0</td>\n",
       "      <td>Solam Susent</td>\n",
       "      <td>False</td>\n",
       "    </tr>\n",
       "    <tr>\n",
       "      <th>4</th>\n",
       "      <td>0004_01</td>\n",
       "      <td>Earth</td>\n",
       "      <td>False</td>\n",
       "      <td>F/1/S</td>\n",
       "      <td>TRAPPIST-1e</td>\n",
       "      <td>16.0</td>\n",
       "      <td>False</td>\n",
       "      <td>303.0</td>\n",
       "      <td>70.0</td>\n",
       "      <td>151.0</td>\n",
       "      <td>565.0</td>\n",
       "      <td>2.0</td>\n",
       "      <td>Willy Santantines</td>\n",
       "      <td>True</td>\n",
       "    </tr>\n",
       "  </tbody>\n",
       "</table>\n",
       "</div>"
      ],
      "text/plain": [
       "  PassengerId HomePlanet CryoSleep  Cabin  Destination   Age    VIP  \\\n",
       "0     0001_01     Europa     False  B/0/P  TRAPPIST-1e  39.0  False   \n",
       "1     0002_01      Earth     False  F/0/S  TRAPPIST-1e  24.0  False   \n",
       "2     0003_01     Europa     False  A/0/S  TRAPPIST-1e  58.0   True   \n",
       "3     0003_02     Europa     False  A/0/S  TRAPPIST-1e  33.0  False   \n",
       "4     0004_01      Earth     False  F/1/S  TRAPPIST-1e  16.0  False   \n",
       "\n",
       "   RoomService  FoodCourt  ShoppingMall     Spa  VRDeck               Name  \\\n",
       "0          0.0        0.0           0.0     0.0     0.0    Maham Ofracculy   \n",
       "1        109.0        9.0          25.0   549.0    44.0       Juanna Vines   \n",
       "2         43.0     3576.0           0.0  6715.0    49.0      Altark Susent   \n",
       "3          0.0     1283.0         371.0  3329.0   193.0       Solam Susent   \n",
       "4        303.0       70.0         151.0   565.0     2.0  Willy Santantines   \n",
       "\n",
       "   Transported  \n",
       "0        False  \n",
       "1         True  \n",
       "2        False  \n",
       "3        False  \n",
       "4         True  "
      ]
     },
     "execution_count": 4,
     "metadata": {},
     "output_type": "execute_result"
    }
   ],
   "source": [
    "train_data.head()"
   ]
  },
  {
   "cell_type": "code",
   "execution_count": 5,
   "metadata": {},
   "outputs": [
    {
     "name": "stdout",
     "output_type": "stream",
     "text": [
      "<class 'pandas.core.frame.DataFrame'>\n",
      "RangeIndex: 8693 entries, 0 to 8692\n",
      "Data columns (total 14 columns):\n",
      " #   Column        Non-Null Count  Dtype  \n",
      "---  ------        --------------  -----  \n",
      " 0   PassengerId   8693 non-null   object \n",
      " 1   HomePlanet    8492 non-null   object \n",
      " 2   CryoSleep     8476 non-null   object \n",
      " 3   Cabin         8494 non-null   object \n",
      " 4   Destination   8511 non-null   object \n",
      " 5   Age           8514 non-null   float64\n",
      " 6   VIP           8490 non-null   object \n",
      " 7   RoomService   8512 non-null   float64\n",
      " 8   FoodCourt     8510 non-null   float64\n",
      " 9   ShoppingMall  8485 non-null   float64\n",
      " 10  Spa           8510 non-null   float64\n",
      " 11  VRDeck        8505 non-null   float64\n",
      " 12  Name          8493 non-null   object \n",
      " 13  Transported   8693 non-null   bool   \n",
      "dtypes: bool(1), float64(6), object(7)\n",
      "memory usage: 891.5+ KB\n"
     ]
    }
   ],
   "source": [
    "train_data.info()"
   ]
  },
  {
   "cell_type": "code",
   "execution_count": 6,
   "metadata": {},
   "outputs": [
    {
     "data": {
      "text/html": [
       "<div>\n",
       "<style scoped>\n",
       "    .dataframe tbody tr th:only-of-type {\n",
       "        vertical-align: middle;\n",
       "    }\n",
       "\n",
       "    .dataframe tbody tr th {\n",
       "        vertical-align: top;\n",
       "    }\n",
       "\n",
       "    .dataframe thead th {\n",
       "        text-align: right;\n",
       "    }\n",
       "</style>\n",
       "<table border=\"1\" class=\"dataframe\">\n",
       "  <thead>\n",
       "    <tr style=\"text-align: right;\">\n",
       "      <th></th>\n",
       "      <th>Age</th>\n",
       "      <th>RoomService</th>\n",
       "      <th>FoodCourt</th>\n",
       "      <th>ShoppingMall</th>\n",
       "      <th>Spa</th>\n",
       "      <th>VRDeck</th>\n",
       "    </tr>\n",
       "  </thead>\n",
       "  <tbody>\n",
       "    <tr>\n",
       "      <th>count</th>\n",
       "      <td>8514.000000</td>\n",
       "      <td>8512.000000</td>\n",
       "      <td>8510.000000</td>\n",
       "      <td>8485.000000</td>\n",
       "      <td>8510.000000</td>\n",
       "      <td>8505.000000</td>\n",
       "    </tr>\n",
       "    <tr>\n",
       "      <th>mean</th>\n",
       "      <td>28.827930</td>\n",
       "      <td>224.687617</td>\n",
       "      <td>458.077203</td>\n",
       "      <td>173.729169</td>\n",
       "      <td>311.138778</td>\n",
       "      <td>304.854791</td>\n",
       "    </tr>\n",
       "    <tr>\n",
       "      <th>std</th>\n",
       "      <td>14.489021</td>\n",
       "      <td>666.717663</td>\n",
       "      <td>1611.489240</td>\n",
       "      <td>604.696458</td>\n",
       "      <td>1136.705535</td>\n",
       "      <td>1145.717189</td>\n",
       "    </tr>\n",
       "    <tr>\n",
       "      <th>min</th>\n",
       "      <td>0.000000</td>\n",
       "      <td>0.000000</td>\n",
       "      <td>0.000000</td>\n",
       "      <td>0.000000</td>\n",
       "      <td>0.000000</td>\n",
       "      <td>0.000000</td>\n",
       "    </tr>\n",
       "    <tr>\n",
       "      <th>25%</th>\n",
       "      <td>19.000000</td>\n",
       "      <td>0.000000</td>\n",
       "      <td>0.000000</td>\n",
       "      <td>0.000000</td>\n",
       "      <td>0.000000</td>\n",
       "      <td>0.000000</td>\n",
       "    </tr>\n",
       "    <tr>\n",
       "      <th>50%</th>\n",
       "      <td>27.000000</td>\n",
       "      <td>0.000000</td>\n",
       "      <td>0.000000</td>\n",
       "      <td>0.000000</td>\n",
       "      <td>0.000000</td>\n",
       "      <td>0.000000</td>\n",
       "    </tr>\n",
       "    <tr>\n",
       "      <th>75%</th>\n",
       "      <td>38.000000</td>\n",
       "      <td>47.000000</td>\n",
       "      <td>76.000000</td>\n",
       "      <td>27.000000</td>\n",
       "      <td>59.000000</td>\n",
       "      <td>46.000000</td>\n",
       "    </tr>\n",
       "    <tr>\n",
       "      <th>max</th>\n",
       "      <td>79.000000</td>\n",
       "      <td>14327.000000</td>\n",
       "      <td>29813.000000</td>\n",
       "      <td>23492.000000</td>\n",
       "      <td>22408.000000</td>\n",
       "      <td>24133.000000</td>\n",
       "    </tr>\n",
       "  </tbody>\n",
       "</table>\n",
       "</div>"
      ],
      "text/plain": [
       "               Age   RoomService     FoodCourt  ShoppingMall           Spa  \\\n",
       "count  8514.000000   8512.000000   8510.000000   8485.000000   8510.000000   \n",
       "mean     28.827930    224.687617    458.077203    173.729169    311.138778   \n",
       "std      14.489021    666.717663   1611.489240    604.696458   1136.705535   \n",
       "min       0.000000      0.000000      0.000000      0.000000      0.000000   \n",
       "25%      19.000000      0.000000      0.000000      0.000000      0.000000   \n",
       "50%      27.000000      0.000000      0.000000      0.000000      0.000000   \n",
       "75%      38.000000     47.000000     76.000000     27.000000     59.000000   \n",
       "max      79.000000  14327.000000  29813.000000  23492.000000  22408.000000   \n",
       "\n",
       "             VRDeck  \n",
       "count   8505.000000  \n",
       "mean     304.854791  \n",
       "std     1145.717189  \n",
       "min        0.000000  \n",
       "25%        0.000000  \n",
       "50%        0.000000  \n",
       "75%       46.000000  \n",
       "max    24133.000000  "
      ]
     },
     "execution_count": 6,
     "metadata": {},
     "output_type": "execute_result"
    }
   ],
   "source": [
    "train_data.describe()"
   ]
  },
  {
   "cell_type": "markdown",
   "metadata": {},
   "source": [
    "# -- Drop kolom yang tidak relevan dan set kolom yang ingin diprediksi"
   ]
  },
  {
   "cell_type": "code",
   "execution_count": 7,
   "metadata": {},
   "outputs": [],
   "source": [
    "# Ganti isi dengan fitur yang sesuai dengan data\n",
    "dropped_columns = ['PassengerId', 'HomePlanet', 'Destination', 'Age', 'VIP', 'Name', 'CryoSleep']\n",
    "target_column = 'Transported'\n",
    "\n",
    "categorical_features = train_data.drop(columns=dropped_columns + [target_column]).select_dtypes(include=['object']).columns.tolist()\n",
    "numerical_features = train_data.drop(columns=dropped_columns + [target_column]).select_dtypes(exclude=['object']).columns.tolist()\n",
    "\n",
    "train_data = train_data.drop(columns=dropped_columns)\n",
    "test_data = test_data.drop(columns=dropped_columns)"
   ]
  },
  {
   "cell_type": "markdown",
   "metadata": {},
   "source": [
    "# Melihat kembali apakah fitur kategorikal dan fitur numerikal sudah benar"
   ]
  },
  {
   "cell_type": "code",
   "execution_count": 8,
   "metadata": {},
   "outputs": [
    {
     "name": "stdout",
     "output_type": "stream",
     "text": [
      "['Cabin']\n",
      "['RoomService', 'FoodCourt', 'ShoppingMall', 'Spa', 'VRDeck']\n"
     ]
    }
   ],
   "source": [
    "print(categorical_features)\n",
    "print(numerical_features)"
   ]
  },
  {
   "cell_type": "markdown",
   "metadata": {},
   "source": [
    "# -- Fungsi untuk imputasi nilai yang bersifat null lalu skalarisasi standar"
   ]
  },
  {
   "cell_type": "code",
   "execution_count": 9,
   "metadata": {},
   "outputs": [],
   "source": [
    "# Ini adalah fungsi transformasi yang digunakan untuk fitur kategorikal non ordinal\n",
    "categorical_transformer = Pipeline(steps=[\n",
    "    ('imputer', SimpleImputer(strategy='most_frequent')), \n",
    "    ('onehot', OneHotEncoder(sparse_output=False).set_output(transform='pandas'))\n",
    "])  # OneHotEncoder mengubah kategorikal menjadi biner (numerikal)\n",
    "\n",
    "# Ini adalah fungsi transformasi yang digunakan untuk fitur numerikal non ordinal\n",
    "numerical_imputer = Pipeline(steps=[\n",
    "    ('imputer', SimpleImputer(strategy='median')),   # Mengisi null value dengan data median\n",
    "    ('scaler', StandardScaler())                    # Melakukan standarisasi skalar\n",
    "])\n",
    "\n",
    "preprocessor = ColumnTransformer(\n",
    "    transformers=[\n",
    "        ('cat', categorical_transformer, categorical_features),\n",
    "        ('num', numerical_imputer, numerical_features)\n",
    "    ], remainder='passthrough')\n",
    "\n",
    "pipeline = Pipeline(steps=[('preprocessor', preprocessor)])"
   ]
  },
  {
   "cell_type": "markdown",
   "metadata": {},
   "source": [
    "# -- Mulai memisah menjadi x_train, y_train, dan x_test (tidak perlu y_test karena yang diminta hasil prediksi bukan akurasi)"
   ]
  },
  {
   "cell_type": "code",
   "execution_count": 10,
   "metadata": {},
   "outputs": [],
   "source": [
    "from sklearn.model_selection import train_test_split\n",
    "x_train_visualize = train_data\n",
    "x_train = train_data.drop(columns=[target_column])\n",
    "y_train = train_data[target_column]\n",
    "x_test = test_data\n",
    "X_train, X_val, Y_train, Y_val = train_test_split(x_train, y_train, test_size=0.2, random_state=69)"
   ]
  },
  {
   "cell_type": "code",
   "execution_count": 11,
   "metadata": {},
   "outputs": [],
   "source": [
    "# models=[]\n",
    "# names=[]\n",
    "# results=[]\n",
    "# itr = len(algorithm_pack)\n",
    "# for i in range(len(algorithm_pack)):\n",
    "#     # names.append(algorithm_pack[i](2))\n",
    "#     models.append(algorithm_pack[i][0])\n",
    "# for name, model in models:\n",
    "#     kfold = StratifiedKFold(n_splits=10, random_state=1, shuffle=True)\n",
    "#     cv_results = cross_val_score(model, X_train, y_train, cv=kfold, scoring='accuracy')\n",
    "#     results.append(cv_results)\n",
    "#     names.append(name)\n",
    "#     print('%s: %f (%f)' % (name, cv_results.mean(), cv_results.std()))\n"
   ]
  },
  {
   "cell_type": "code",
   "execution_count": 12,
   "metadata": {},
   "outputs": [],
   "source": [
    "# Fungsi buat ngambil huruf S sama P di Side\n",
    "def extract_last_cabin_part(s):\n",
    "    if isinstance(s, str):\n",
    "        parts = s.split('/')\n",
    "        return parts[-1]\n",
    "    else:\n",
    "        return s\n",
    "\n",
    "# def convert_to_numeric(label):\n",
    "#   if label == 'S':\n",
    "#     # Handle 'S' appropriately (e.g., impute, drop, assign a specific value)\n",
    "#     return -1  # Example: Replace with appropriate value or handling\n",
    "#   else:\n",
    "#     return 1\n",
    "\n",
    "\n",
    "x_train_visualize['Cabin'] = x_train_visualize['Cabin'].apply(extract_last_cabin_part)\n",
    "x_train['Cabin'] = x_train['Cabin'].apply(extract_last_cabin_part)\n",
    "x_test['Cabin'] = x_test['Cabin'].apply(extract_last_cabin_part)\n",
    "# print(y_test)\n",
    "# y_test = [convert_to_numeric(label) for label in y_test]"
   ]
  },
  {
   "cell_type": "code",
   "execution_count": 13,
   "metadata": {},
   "outputs": [],
   "source": [
    "# results=[]\n",
    "# for i in range (len(algorithm_pack)):\n",
    "#     kfold = StratifiedKFold(n_splits=10, random_state=1, shuffle=True)\n",
    "#     cv_results = cross_val_score(algorithm_pack[i][0], X_train, x_train, cv=kfold, scoring='accuracy')\n",
    "#     results.append(cv_results)\n",
    "#     print('%s: %f (%f)' % (algorithm_pack[i][2], cv_results.mean(), cv_results.std()))"
   ]
  },
  {
   "cell_type": "code",
   "execution_count": 14,
   "metadata": {},
   "outputs": [],
   "source": [
    "x_train_visualize = pipeline.fit_transform(x_train_visualize)\n",
    "x_train = pipeline.fit_transform(x_train)\n",
    "# y_train = pipeline.fit_transform(y_train)\n",
    "x_test = pipeline.transform(x_test)\n",
    "\n",
    "if (len(categorical_features) > 0):\n",
    "    encoded_categorical_columns = pipeline.named_steps['preprocessor'].transformers_[0][1].named_steps['onehot'].get_feature_names_out(categorical_features)\n",
    "    all_column_names = list(encoded_categorical_columns) + numerical_features\n",
    "else:\n",
    "    all_column_names = numerical_features"
   ]
  },
  {
   "cell_type": "code",
   "execution_count": 15,
   "metadata": {},
   "outputs": [
    {
     "name": "stdout",
     "output_type": "stream",
     "text": [
      "NB: 0.671345 (0.010623)\n",
      "KNN: 0.704814 (0.074246)\n",
      "SVM: 0.791209 (0.011370)\n",
      "GB: 0.791441 (0.012189)\n",
      "DT: 0.744965 (0.014792)\n"
     ]
    }
   ],
   "source": [
    "algorithm_pack_2 = [[GaussianNB(), 'Naive Bayes', 'NB'],\n",
    "                [KNeighborsClassifier(), 'K Nearest Neighbors', 'KNN'],\n",
    "                [SVC(), 'Support Vector Machine', 'SVM'],\n",
    "                [GradientBoostingClassifier(random_state=100, learning_rate=0.125), 'Gradient Boosting', 'GB'],\n",
    "                [DecisionTreeClassifier(random_state=100), 'Decision Tree', 'DT']]\n",
    "\n",
    "results=[]\n",
    "for i in range (len(algorithm_pack_2)):\n",
    "    kfold = StratifiedKFold(n_splits=10, random_state=1, shuffle=True)\n",
    "    cv_results = cross_val_score(algorithm_pack_2[i][0], x_train, y_train, cv=kfold, scoring='accuracy')\n",
    "    results.append(cv_results)\n",
    "    print('%s: %f (%f)' % (algorithm_pack_2[i][2], cv_results.mean(), cv_results.std()))"
   ]
  },
  {
   "cell_type": "code",
   "execution_count": 16,
   "metadata": {},
   "outputs": [
    {
     "name": "stdout",
     "output_type": "stream",
     "text": [
      "['Cabin_P', 'Cabin_S', 'RoomService', 'FoodCourt', 'ShoppingMall', 'Spa', 'VRDeck']\n"
     ]
    },
    {
     "data": {
      "image/png": "[encoded data removed]",
      "text/plain": [
       "<Figure size 1600x900 with 1 Axes>"
      ]
     },
     "metadata": {},
     "output_type": "display_data"
    }
   ],
   "source": [
    "x_train_visualize_df = pd.DataFrame(x_train_visualize)\n",
    "x_train_df = pd.DataFrame(x_train)\n",
    "x_train_df.columns = all_column_names\n",
    "x_train_visualize_df.columns = all_column_names + [target_column]\n",
    "x_train_df.corrwith(train_data[target_column]).plot.bar(figsize=(16,9), title=f'Correlated with {target_column} Column', rot=45,grid=True)\n",
    "print(all_column_names)"
   ]
  },
  {
   "cell_type": "code",
   "execution_count": 17,
   "metadata": {},
   "outputs": [
    {
     "data": {
      "text/plain": [
       "<Axes: >"
      ]
     },
     "execution_count": 17,
     "metadata": {},
     "output_type": "execute_result"
    },
    {
     "data": {
      "image/png": "[encoded data removed]",
      "text/plain": [
       "<Figure size 1600x900 with 2 Axes>"
      ]
     },
     "metadata": {},
     "output_type": "display_data"
    }
   ],
   "source": [
    "corr = x_train_visualize_df.corr()\n",
    "plt.figure(figsize=(16,9))\n",
    "sns.heatmap(corr, annot=True)"
   ]
  },
  {
   "cell_type": "code",
   "execution_count": 18,
   "metadata": {},
   "outputs": [
    {
     "data": {
      "text/plain": [
       "array([[ 1.        ,  0.        , -0.33310466, ..., -0.28357863,\n",
       "        -0.2706259 , -0.26300329],\n",
       "       [ 0.        ,  1.        , -0.16807343, ..., -0.24177071,\n",
       "         0.21715825, -0.22420468],\n",
       "       [ 0.        ,  1.        , -0.2680006 , ..., -0.28357863,\n",
       "         5.69562289, -0.21979574],\n",
       "       ...,\n",
       "       [ 0.        ,  1.        , -0.33310466, ...,  2.84699872,\n",
       "        -0.26973741, -0.26300329],\n",
       "       [ 0.        ,  1.        , -0.33310466, ..., -0.28357863,\n",
       "         0.04301309,  2.58957649],\n",
       "       [ 0.        ,  1.        , -0.14233462, ..., -0.28357863,\n",
       "        -0.2706259 , -0.25242185]])"
      ]
     },
     "execution_count": 18,
     "metadata": {},
     "output_type": "execute_result"
    }
   ],
   "source": [
    "x_train"
   ]
  },
  {
   "cell_type": "code",
   "execution_count": 19,
   "metadata": {},
   "outputs": [
    {
     "data": {
      "text/plain": [
       "array([[ 0.        ,  1.        , -0.33310466, ..., -0.28357863,\n",
       "        -0.2706259 , -0.26300329],\n",
       "       [ 0.        ,  1.        , -0.33310466, ..., -0.28357863,\n",
       "         2.23759753, -0.26300329],\n",
       "       [ 0.        ,  1.        , -0.33310466, ..., -0.28357863,\n",
       "        -0.2706259 , -0.26300329],\n",
       "       ...,\n",
       "       [ 1.        ,  0.        , -0.33310466, ..., -0.28357863,\n",
       "        -0.2706259 , -0.26300329],\n",
       "       [ 1.        ,  0.        , -0.33310466, ..., -0.28357863,\n",
       "        -0.2706259 ,  0.19817112],\n",
       "       [ 0.        ,  1.        , -0.33310466, ..., -0.28357863,\n",
       "        -0.2706259 , -0.26300329]])"
      ]
     },
     "execution_count": 19,
     "metadata": {},
     "output_type": "execute_result"
    }
   ],
   "source": [
    "x_test"
   ]
  },
  {
   "cell_type": "code",
   "execution_count": 20,
   "metadata": {},
   "outputs": [],
   "source": [
    "def calculate_confusion_matrix(y_test, predictions):\n",
    "  \"\"\"\n",
    "  This function calculates the confusion matrix for a given set of true labels and predictions.\n",
    "\n",
    "  Args:\n",
    "      y_test (list): A list of true labels.\n",
    "      predictions (list): A list of predicted labels.\n",
    "\n",
    "  Returns:\n",
    "      confusion_matrix (dict): A dictionary containing the confusion matrix elements.\n",
    "  \"\"\"\n",
    "  from sklearn.metrics import confusion_matrix\n",
    "\n",
    "  # Calculate the confusion matrix\n",
    "  cm = confusion_matrix(y_test, predictions)\n",
    "  cm_dict = {}\n",
    "  cm_dict['TP'] = cm[0][0]  # True Positives\n",
    "  cm_dict['TN'] = cm[1][1]  # True Negatives\n",
    "  cm_dict['FP'] = cm[0][1]  # False Positives\n",
    "  cm_dict['FN'] = cm[1][0]  # False Negatives\n",
    "\n",
    "  return cm_dict"
   ]
  },
  {
   "cell_type": "code",
   "execution_count": 21,
   "metadata": {},
   "outputs": [],
   "source": [
    "algorithm_pack = [[GaussianNB(), 'Naive Bayes', 'NB'],\n",
    "                [KNeighborsClassifier(), 'K Nearest Neighbors', 'KNN'],\n",
    "                [SVC(), 'Support Vector Machine', 'SVM'],\n",
    "                [LogisticRegression(random_state=100), 'Logistic Regression', 'LR'],\n",
    "                [GradientBoostingClassifier(random_state=100, learning_rate=0.125), 'Gradient Boosting', 'GB'],\n",
    "                [DecisionTreeClassifier(random_state=100), 'Decision Tree', 'DT'],\n",
    "                [RandomForestClassifier(random_state=100), 'Random Forest','RF'],\n",
    "                [MLPClassifier(max_iter=1000), 'Multi-layer Perceptron', 'MLP']]"
   ]
  },
  {
   "cell_type": "code",
   "execution_count": null,
   "metadata": {},
   "outputs": [],
   "source": [
    "predictions = algorithm_pack[0][0].predict(x_test) #NB\n",
    "predictions = algorithm_pack[1][0].predict(x_test) #KNN\n",
    "predictions = algorithm_pack[4][0].predict(x_test) #GB\n",
    "predictions = algorithm_pack[5][0].predict(x_test) #DT"
   ]
  },
  {
   "cell_type": "code",
   "execution_count": 32,
   "metadata": {},
   "outputs": [],
   "source": [
    "algorithm_pack[5][0].fit(x_train, y_train)\n",
    "predictions = algorithm_pack[5][0].predict(x_test) #KNN"
   ]
  },
  {
   "cell_type": "code",
   "execution_count": 33,
   "metadata": {},
   "outputs": [
    {
     "name": "stdout",
     "output_type": "stream",
     "text": [
      "[ True False  True ...  True  True  True]\n"
     ]
    }
   ],
   "source": [
    "print(predictions)"
   ]
  },
  {
   "cell_type": "markdown",
   "metadata": {},
   "source": [
    "# -- Fungsi untuk output csv, diganti berdasarkan kebutuhan"
   ]
  },
  {
   "cell_type": "markdown",
   "metadata": {},
   "source": [
    "## Fungsi untuk prediksi bersifat non probabilitas"
   ]
  },
  {
   "cell_type": "code",
   "execution_count": null,
   "metadata": {},
   "outputs": [],
   "source": [
    "def output_one_csv(i):\n",
    "    algorithm_pack[i][0].fit(x_train, y_train)\n",
    "    predictions = algorithm_pack[i][0].predict(x_test)\n",
    "    ids = origin_test_data['PassengerId']\n",
    "    output_df = pd.DataFrame({'PassengerId': ids, 'Transported': predictions})\n",
    "    output_csv_name = f\"predictions_{algorithm_pack[i][2]}_{current_time}.csv\"\n",
    "    output_df.to_csv(output_csv_name, index=False)\n",
    "    confusion_matrix = calculate_confusion_matrix(y_test, predictions)\n",
    "    print(confusion_matrix)\n",
    "    # accuracy = accuracy_score(y_test, predictions)\n",
    "    # accuracy = accuracy_score(y_test,predictions)\n",
    "    # print(accuracy)\n",
    "\n",
    "    # Algoritma untuk output data yang dipakai untuk melatih model\n",
    "    clean_data_df = pd.DataFrame(x_train)\n",
    "    clean_data_df.columns = all_column_names\n",
    "    clean_data_csv_name = f\"clean_data_{algorithm_pack[i][2]}_{current_time}.csv\"\n",
    "    clean_data_df.to_csv(clean_data_csv_name, index=False)\n",
    "\n",
    "    # Algoritma untuk output dokumentasi seperti permasalahan yang diselesaikan, waktu run code, dll.\n",
    "    documentation_txt_name = f\"documentation_{algorithm_pack[i][2]}_{current_time}.txt\"\n",
    "    current_ipynb_file = \"STPv3.ipynb\"\n",
    "    string_to_write = \"\"\n",
    "    with open(documentation_txt_name, \"w\") as f:\n",
    "        # Write your documentation content to the file\n",
    "        string_to_write += f\"Problem to solve\\t\\t: {os.path.basename(os.getcwd())}\\n\"\n",
    "        string_to_write += f\"Date and Time file created\\t: {get_current_time()}\\n\"\n",
    "        # string_to_write += f\"Accuracy :\\t: {accuracy}\\n\"\n",
    "        string_to_write += f\"\\nConfusion Matrix:\\n{confusion_matrix}\"\n",
    "        string_to_write += f\"Algorithm title\\t\\t\\t: {algorithm_pack[i][1]}\\n\\n\"\n",
    "        string_to_write += f\"Training data info:\\n{train_data.dtypes}\\n\\n\"\n",
    "        string_to_write += f\"Test data info:\\n{test_data.dtypes}\\n\\n\"\n",
    "        string_to_write += f\"Categorical Features\\t: {categorical_features}\\n\"\n",
    "        string_to_write += f\"Numerical Features\\t: {numerical_features}\\n\\n\"\n",
    "        string_to_write += f\"For more data details see {clean_data_csv_name} (data that are beeing trained)\\n\"\n",
    "        string_to_write += f\"For data preprocessing details see {current_ipynb_file} or self\\n\"\n",
    "        f.write(string_to_write)\n",
    "\n",
    "    with zipfile.ZipFile(f\"complete_data_{algorithm_pack[i][2]}_{current_time}.zip\", \"w\") as zip_file:\n",
    "        # Add the current code into the zip\n",
    "        zip_file.write(current_ipynb_file, arcname=current_ipynb_file)\n",
    "        # Add the CSV file\n",
    "        zip_file.write(output_csv_name, arcname=output_csv_name)  # Specify archive name for the CSV\n",
    "        zip_file.write(clean_data_csv_name, arcname=clean_data_csv_name)  # Specify archive name for the CSV\n",
    "        # Add the text file\n",
    "        zip_file.write(documentation_txt_name, arcname=documentation_txt_name)  # Specify archive name for the text file\n",
    "        remove_file(clean_data_csv_name)\n",
    "        remove_file(documentation_txt_name)"
   ]
  },
  {
   "cell_type": "markdown",
   "metadata": {},
   "source": [
    "# -- Fungsi untuk output semua model yang dipakai"
   ]
  },
  {
   "cell_type": "code",
   "execution_count": null,
   "metadata": {},
   "outputs": [],
   "source": [
    "def output_all_csv():\n",
    "    for i in range(len(algorithm_pack)):\n",
    "        output_one_csv(i)\n",
    "\n",
    "def output_mandatory_csv():\n",
    "     for i in range(3):\n",
    "        output_one_csv(i)"
   ]
  },
  {
   "cell_type": "markdown",
   "metadata": {},
   "source": [
    "# -- Memudahkan untuk outputnya"
   ]
  },
  {
   "cell_type": "code",
   "execution_count": null,
   "metadata": {},
   "outputs": [
    {
     "ename": "ValueError",
     "evalue": "Found input variables with inconsistent numbers of samples: [8693, 6954]",
     "output_type": "error",
     "traceback": [
      "\u001b[1;31m---------------------------------------------------------------------------\u001b[0m",
      "\u001b[1;31mValueError\u001b[0m                                Traceback (most recent call last)",
      "Cell \u001b[1;32mIn[527], line 11\u001b[0m\n\u001b[0;32m      9\u001b[0m     output_one_csv(choose)\n\u001b[0;32m     10\u001b[0m \u001b[38;5;28;01melif\u001b[39;00m(choose \u001b[38;5;241m==\u001b[39m \u001b[38;5;241m1\u001b[39m):\n\u001b[1;32m---> 11\u001b[0m     \u001b[43moutput_all_csv\u001b[49m\u001b[43m(\u001b[49m\u001b[43m)\u001b[49m\n\u001b[0;32m     12\u001b[0m \u001b[38;5;28;01melif\u001b[39;00m(choose \u001b[38;5;241m==\u001b[39m \u001b[38;5;241m2\u001b[39m):\n\u001b[0;32m     13\u001b[0m     output_mandatory_csv()\n",
      "Cell \u001b[1;32mIn[526], line 3\u001b[0m, in \u001b[0;36moutput_all_csv\u001b[1;34m()\u001b[0m\n\u001b[0;32m      1\u001b[0m \u001b[38;5;28;01mdef\u001b[39;00m \u001b[38;5;21moutput_all_csv\u001b[39m():\n\u001b[0;32m      2\u001b[0m     \u001b[38;5;28;01mfor\u001b[39;00m i \u001b[38;5;129;01min\u001b[39;00m \u001b[38;5;28mrange\u001b[39m(\u001b[38;5;28mlen\u001b[39m(algorithm_pack)):\n\u001b[1;32m----> 3\u001b[0m         \u001b[43moutput_one_csv\u001b[49m\u001b[43m(\u001b[49m\u001b[43mi\u001b[49m\u001b[43m)\u001b[49m\n",
      "Cell \u001b[1;32mIn[525], line 2\u001b[0m, in \u001b[0;36moutput_one_csv\u001b[1;34m(i)\u001b[0m\n\u001b[0;32m      1\u001b[0m \u001b[38;5;28;01mdef\u001b[39;00m \u001b[38;5;21moutput_one_csv\u001b[39m(i):\n\u001b[1;32m----> 2\u001b[0m     \u001b[43malgorithm_pack\u001b[49m\u001b[43m[\u001b[49m\u001b[43mi\u001b[49m\u001b[43m]\u001b[49m\u001b[43m[\u001b[49m\u001b[38;5;241;43m0\u001b[39;49m\u001b[43m]\u001b[49m\u001b[38;5;241;43m.\u001b[39;49m\u001b[43mfit\u001b[49m\u001b[43m(\u001b[49m\u001b[43mx_train\u001b[49m\u001b[43m,\u001b[49m\u001b[43m \u001b[49m\u001b[43my_train\u001b[49m\u001b[43m)\u001b[49m\n\u001b[0;32m      3\u001b[0m     predictions \u001b[38;5;241m=\u001b[39m algorithm_pack[i][\u001b[38;5;241m0\u001b[39m]\u001b[38;5;241m.\u001b[39mpredict(x_test)\n\u001b[0;32m      4\u001b[0m     ids \u001b[38;5;241m=\u001b[39m origin_test_data[\u001b[38;5;124m'\u001b[39m\u001b[38;5;124mPassengerId\u001b[39m\u001b[38;5;124m'\u001b[39m]\n",
      "File \u001b[1;32mc:\\Users\\dymik\\AppData\\Local\\Programs\\Python\\Python310\\lib\\site-packages\\sklearn\\base.py:1474\u001b[0m, in \u001b[0;36m_fit_context.<locals>.decorator.<locals>.wrapper\u001b[1;34m(estimator, *args, **kwargs)\u001b[0m\n\u001b[0;32m   1467\u001b[0m     estimator\u001b[38;5;241m.\u001b[39m_validate_params()\n\u001b[0;32m   1469\u001b[0m \u001b[38;5;28;01mwith\u001b[39;00m config_context(\n\u001b[0;32m   1470\u001b[0m     skip_parameter_validation\u001b[38;5;241m=\u001b[39m(\n\u001b[0;32m   1471\u001b[0m         prefer_skip_nested_validation \u001b[38;5;129;01mor\u001b[39;00m global_skip_validation\n\u001b[0;32m   1472\u001b[0m     )\n\u001b[0;32m   1473\u001b[0m ):\n\u001b[1;32m-> 1474\u001b[0m     \u001b[38;5;28;01mreturn\u001b[39;00m fit_method(estimator, \u001b[38;5;241m*\u001b[39margs, \u001b[38;5;241m*\u001b[39m\u001b[38;5;241m*\u001b[39mkwargs)\n",
      "File \u001b[1;32mc:\\Users\\dymik\\AppData\\Local\\Programs\\Python\\Python310\\lib\\site-packages\\sklearn\\naive_bayes.py:263\u001b[0m, in \u001b[0;36mGaussianNB.fit\u001b[1;34m(self, X, y, sample_weight)\u001b[0m\n\u001b[0;32m    240\u001b[0m \u001b[38;5;250m\u001b[39m\u001b[38;5;124;03m\"\"\"Fit Gaussian Naive Bayes according to X, y.\u001b[39;00m\n\u001b[0;32m    241\u001b[0m \n\u001b[0;32m    242\u001b[0m \u001b[38;5;124;03mParameters\u001b[39;00m\n\u001b[1;32m   (...)\u001b[0m\n\u001b[0;32m    260\u001b[0m \u001b[38;5;124;03m    Returns the instance itself.\u001b[39;00m\n\u001b[0;32m    261\u001b[0m \u001b[38;5;124;03m\"\"\"\u001b[39;00m\n\u001b[0;32m    262\u001b[0m y \u001b[38;5;241m=\u001b[39m \u001b[38;5;28mself\u001b[39m\u001b[38;5;241m.\u001b[39m_validate_data(y\u001b[38;5;241m=\u001b[39my)\n\u001b[1;32m--> 263\u001b[0m \u001b[38;5;28;01mreturn\u001b[39;00m \u001b[38;5;28;43mself\u001b[39;49m\u001b[38;5;241;43m.\u001b[39;49m\u001b[43m_partial_fit\u001b[49m\u001b[43m(\u001b[49m\n\u001b[0;32m    264\u001b[0m \u001b[43m    \u001b[49m\u001b[43mX\u001b[49m\u001b[43m,\u001b[49m\u001b[43m \u001b[49m\u001b[43my\u001b[49m\u001b[43m,\u001b[49m\u001b[43m \u001b[49m\u001b[43mnp\u001b[49m\u001b[38;5;241;43m.\u001b[39;49m\u001b[43munique\u001b[49m\u001b[43m(\u001b[49m\u001b[43my\u001b[49m\u001b[43m)\u001b[49m\u001b[43m,\u001b[49m\u001b[43m \u001b[49m\u001b[43m_refit\u001b[49m\u001b[38;5;241;43m=\u001b[39;49m\u001b[38;5;28;43;01mTrue\u001b[39;49;00m\u001b[43m,\u001b[49m\u001b[43m \u001b[49m\u001b[43msample_weight\u001b[49m\u001b[38;5;241;43m=\u001b[39;49m\u001b[43msample_weight\u001b[49m\n\u001b[0;32m    265\u001b[0m \u001b[43m\u001b[49m\u001b[43m)\u001b[49m\n",
      "File \u001b[1;32mc:\\Users\\dymik\\AppData\\Local\\Programs\\Python\\Python310\\lib\\site-packages\\sklearn\\naive_bayes.py:423\u001b[0m, in \u001b[0;36mGaussianNB._partial_fit\u001b[1;34m(self, X, y, classes, _refit, sample_weight)\u001b[0m\n\u001b[0;32m    420\u001b[0m     \u001b[38;5;28mself\u001b[39m\u001b[38;5;241m.\u001b[39mclasses_ \u001b[38;5;241m=\u001b[39m \u001b[38;5;28;01mNone\u001b[39;00m\n\u001b[0;32m    422\u001b[0m first_call \u001b[38;5;241m=\u001b[39m _check_partial_fit_first_call(\u001b[38;5;28mself\u001b[39m, classes)\n\u001b[1;32m--> 423\u001b[0m X, y \u001b[38;5;241m=\u001b[39m \u001b[38;5;28;43mself\u001b[39;49m\u001b[38;5;241;43m.\u001b[39;49m\u001b[43m_validate_data\u001b[49m\u001b[43m(\u001b[49m\u001b[43mX\u001b[49m\u001b[43m,\u001b[49m\u001b[43m \u001b[49m\u001b[43my\u001b[49m\u001b[43m,\u001b[49m\u001b[43m \u001b[49m\u001b[43mreset\u001b[49m\u001b[38;5;241;43m=\u001b[39;49m\u001b[43mfirst_call\u001b[49m\u001b[43m)\u001b[49m\n\u001b[0;32m    424\u001b[0m \u001b[38;5;28;01mif\u001b[39;00m sample_weight \u001b[38;5;129;01mis\u001b[39;00m \u001b[38;5;129;01mnot\u001b[39;00m \u001b[38;5;28;01mNone\u001b[39;00m:\n\u001b[0;32m    425\u001b[0m     sample_weight \u001b[38;5;241m=\u001b[39m _check_sample_weight(sample_weight, X)\n",
      "File \u001b[1;32mc:\\Users\\dymik\\AppData\\Local\\Programs\\Python\\Python310\\lib\\site-packages\\sklearn\\base.py:650\u001b[0m, in \u001b[0;36mBaseEstimator._validate_data\u001b[1;34m(self, X, y, reset, validate_separately, cast_to_ndarray, **check_params)\u001b[0m\n\u001b[0;32m    648\u001b[0m         y \u001b[38;5;241m=\u001b[39m check_array(y, input_name\u001b[38;5;241m=\u001b[39m\u001b[38;5;124m\"\u001b[39m\u001b[38;5;124my\u001b[39m\u001b[38;5;124m\"\u001b[39m, \u001b[38;5;241m*\u001b[39m\u001b[38;5;241m*\u001b[39mcheck_y_params)\n\u001b[0;32m    649\u001b[0m     \u001b[38;5;28;01melse\u001b[39;00m:\n\u001b[1;32m--> 650\u001b[0m         X, y \u001b[38;5;241m=\u001b[39m check_X_y(X, y, \u001b[38;5;241m*\u001b[39m\u001b[38;5;241m*\u001b[39mcheck_params)\n\u001b[0;32m    651\u001b[0m     out \u001b[38;5;241m=\u001b[39m X, y\n\u001b[0;32m    653\u001b[0m \u001b[38;5;28;01mif\u001b[39;00m \u001b[38;5;129;01mnot\u001b[39;00m no_val_X \u001b[38;5;129;01mand\u001b[39;00m check_params\u001b[38;5;241m.\u001b[39mget(\u001b[38;5;124m\"\u001b[39m\u001b[38;5;124mensure_2d\u001b[39m\u001b[38;5;124m\"\u001b[39m, \u001b[38;5;28;01mTrue\u001b[39;00m):\n",
      "File \u001b[1;32mc:\\Users\\dymik\\AppData\\Local\\Programs\\Python\\Python310\\lib\\site-packages\\sklearn\\utils\\validation.py:1281\u001b[0m, in \u001b[0;36mcheck_X_y\u001b[1;34m(X, y, accept_sparse, accept_large_sparse, dtype, order, copy, force_all_finite, ensure_2d, allow_nd, multi_output, ensure_min_samples, ensure_min_features, y_numeric, estimator)\u001b[0m\n\u001b[0;32m   1263\u001b[0m X \u001b[38;5;241m=\u001b[39m check_array(\n\u001b[0;32m   1264\u001b[0m     X,\n\u001b[0;32m   1265\u001b[0m     accept_sparse\u001b[38;5;241m=\u001b[39maccept_sparse,\n\u001b[1;32m   (...)\u001b[0m\n\u001b[0;32m   1276\u001b[0m     input_name\u001b[38;5;241m=\u001b[39m\u001b[38;5;124m\"\u001b[39m\u001b[38;5;124mX\u001b[39m\u001b[38;5;124m\"\u001b[39m,\n\u001b[0;32m   1277\u001b[0m )\n\u001b[0;32m   1279\u001b[0m y \u001b[38;5;241m=\u001b[39m _check_y(y, multi_output\u001b[38;5;241m=\u001b[39mmulti_output, y_numeric\u001b[38;5;241m=\u001b[39my_numeric, estimator\u001b[38;5;241m=\u001b[39mestimator)\n\u001b[1;32m-> 1281\u001b[0m \u001b[43mcheck_consistent_length\u001b[49m\u001b[43m(\u001b[49m\u001b[43mX\u001b[49m\u001b[43m,\u001b[49m\u001b[43m \u001b[49m\u001b[43my\u001b[49m\u001b[43m)\u001b[49m\n\u001b[0;32m   1283\u001b[0m \u001b[38;5;28;01mreturn\u001b[39;00m X, y\n",
      "File \u001b[1;32mc:\\Users\\dymik\\AppData\\Local\\Programs\\Python\\Python310\\lib\\site-packages\\sklearn\\utils\\validation.py:457\u001b[0m, in \u001b[0;36mcheck_consistent_length\u001b[1;34m(*arrays)\u001b[0m\n\u001b[0;32m    455\u001b[0m uniques \u001b[38;5;241m=\u001b[39m np\u001b[38;5;241m.\u001b[39munique(lengths)\n\u001b[0;32m    456\u001b[0m \u001b[38;5;28;01mif\u001b[39;00m \u001b[38;5;28mlen\u001b[39m(uniques) \u001b[38;5;241m>\u001b[39m \u001b[38;5;241m1\u001b[39m:\n\u001b[1;32m--> 457\u001b[0m     \u001b[38;5;28;01mraise\u001b[39;00m \u001b[38;5;167;01mValueError\u001b[39;00m(\n\u001b[0;32m    458\u001b[0m         \u001b[38;5;124m\"\u001b[39m\u001b[38;5;124mFound input variables with inconsistent numbers of samples: \u001b[39m\u001b[38;5;132;01m%r\u001b[39;00m\u001b[38;5;124m\"\u001b[39m\n\u001b[0;32m    459\u001b[0m         \u001b[38;5;241m%\u001b[39m [\u001b[38;5;28mint\u001b[39m(l) \u001b[38;5;28;01mfor\u001b[39;00m l \u001b[38;5;129;01min\u001b[39;00m lengths]\n\u001b[0;32m    460\u001b[0m     )\n",
      "\u001b[1;31mValueError\u001b[0m: Found input variables with inconsistent numbers of samples: [8693, 6954]"
     ]
    }
   ],
   "source": [
    "# choose = get_integer_option(0, 2, \"What do you want to do with the csv?\\n0. Train the csv data\\n1. Get the info of the csv data\\n2. Get the csv of clean preprocessed data\\n[0/1/2]: \")\n",
    "choose = 0\n",
    "if(choose == 0):\n",
    "    # choose = get_integer_option(0, 2, \"Use all model?\\n0. No\\n1. Yes\\n2. Mandatory\\n[0/1/2]: \")\n",
    "    choose = 1\n",
    "    if(choose == 0):\n",
    "        # choose = get_integer_option(0, len(algorithm_pack) - 1, f\"Which model to use?\"+algorithm_option_string())\n",
    "        choose = 4\n",
    "        output_one_csv(choose)\n",
    "    elif(choose == 1):\n",
    "        output_all_csv()\n",
    "    elif(choose == 2):\n",
    "        output_mandatory_csv()\n",
    "elif(choose == 1):\n",
    "    print(\"Training data info:\\n\",train_data.dtypes,\"\\n\")\n",
    "    print(\"Test data info:\\n\",test_data.dtypes)\n",
    "    print(\"Categorical Features: \",categorical_features)\n",
    "    print(\"Numerical Features: \",numerical_features)\n",
    "\n",
    "elif(choose == 2):\n",
    "    clean_data_df = pd.DataFrame(x_train)\n",
    "    clean_data_df.columns = all_column_names\n",
    "    clean_data_df.to_csv('clean_data.csv', index=False)"
   ]
  },
  {
   "cell_type": "code",
   "execution_count": null,
   "metadata": {},
   "outputs": [],
   "source": [
    "# Run All0"
   ]
  }
 ],
 "metadata": {
  "kernelspec": {
   "display_name": "Python 3",
   "language": "python",
   "name": "python3"
  },
  "language_info": {
   "codemirror_mode": {
    "name": "ipython",
    "version": 3
   },
   "file_extension": ".py",
   "mimetype": "text/x-python",
   "name": "python",
   "nbconvert_exporter": "python",
   "pygments_lexer": "ipython3",
   "version": "3.10.0"
  }
 },
 "nbformat": 4,
 "nbformat_minor": 2
}
